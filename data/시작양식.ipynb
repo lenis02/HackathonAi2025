{
 "cells": [
  {
   "cell_type": "code",
   "execution_count": null,
   "id": "2278f5cb-8bab-40fd-84b9-d06bd9214396",
   "metadata": {},
   "outputs": [],
   "source": [
    "#!pip install {packages}\n"
   ]
  },
  {
   "cell_type": "code",
   "execution_count": 17,
   "id": "49f593ad-aa74-4531-b107-a45581ede044",
   "metadata": {},
   "outputs": [],
   "source": [
    "import pandas as pd\n",
    "import numpy as np\n",
    "import os, tqdm"
   ]
  },
  {
   "cell_type": "code",
   "execution_count": 58,
   "id": "34d9d95f-ac10-4dae-8503-32aada1080c8",
   "metadata": {},
   "outputs": [],
   "source": [
    "DATASET_PATH=\"/data/dataset/\"\n",
    "GENERATION_DATA= os.path.join(DATASET_PATH, \"generation_train.csv\")\n",
    "SENSOR_DATA = os.path.join(DATASET_PATH, \"sensor_train.csv\")\n",
    "\n",
    "SUBMIT_GENERATION_DATA = os.path.join(DATASET_PATH, \"submit\", \"generation_submit.csv\")\n",
    "SUBMIT_SENSOR_DATA = os.path.join(DATASET_PATH, \"submit\", \"sensor_submit.csv\")"
   ]
  },
  {
   "cell_type": "code",
   "execution_count": null,
   "id": "60417baf-dbb8-4610-93b1-48a6f15a6181",
   "metadata": {},
   "outputs": [],
   "source": [
    "def cleansing(generation_data, sensor_data, is_submit=False):\n",
    "    df = pd.merge(generation_data, sensor_data, on=['DATE_TIME', 'PLANT_ID'])\n",
    "    df = df.drop(columns=['SOURCE_KEY_y'])\n",
    "    df = df.rename(columns={'SOURCE_KEY_x':'INVERTER_ID'})\n",
    "    df = df[['DATE_TIME', 'PLANT_ID', 'INVERTER_ID', 'AMBIENT_TEMPERATURE', 'MODULE_TEMPERATURE', 'IRRADIATION', 'DC_POWER', 'AC_POWER', 'DAILY_YIELD', 'TOTAL_YIELD']]\n",
    "    return df"
   ]
  },
  {
   "cell_type": "code",
   "execution_count": 60,
   "id": "cecabbd7-b763-4491-9045-99b8270eada3",
   "metadata": {},
   "outputs": [],
   "source": [
    "raw_generation = pd.read_csv(GENERATION_DATA)\n",
    "raw_sensor = pd.read_csv(SENSOR_DATA)\n",
    "\n",
    "\n",
    "raw_df = cleansing(raw_generation, raw_sensor)\n"
   ]
  },
  {
   "cell_type": "code",
   "execution_count": 44,
   "id": "9f1dd35c-dc7f-4088-9fb8-173b3d344a77",
   "metadata": {},
   "outputs": [
    {
     "data": {
      "text/html": [
       "<div>\n",
       "<style scoped>\n",
       "    .dataframe tbody tr th:only-of-type {\n",
       "        vertical-align: middle;\n",
       "    }\n",
       "\n",
       "    .dataframe tbody tr th {\n",
       "        vertical-align: top;\n",
       "    }\n",
       "\n",
       "    .dataframe thead th {\n",
       "        text-align: right;\n",
       "    }\n",
       "</style>\n",
       "<table border=\"1\" class=\"dataframe\">\n",
       "  <thead>\n",
       "    <tr style=\"text-align: right;\">\n",
       "      <th></th>\n",
       "      <th>DATE_TIME</th>\n",
       "      <th>PLANT_ID</th>\n",
       "      <th>INVERTER_ID</th>\n",
       "      <th>AMBIENT_TEMPERATURE</th>\n",
       "      <th>MODULE_TEMPERATURE</th>\n",
       "      <th>IRRADIATION</th>\n",
       "      <th>DC_POWER</th>\n",
       "      <th>AC_POWER</th>\n",
       "      <th>DAILY_YIELD</th>\n",
       "      <th>TOTAL_YIELD</th>\n",
       "    </tr>\n",
       "  </thead>\n",
       "  <tbody>\n",
       "    <tr>\n",
       "      <th>0</th>\n",
       "      <td>2020-05-15 00:00:00+00:00</td>\n",
       "      <td>4135001</td>\n",
       "      <td>1BY6WEcLGh8j5v7</td>\n",
       "      <td>25.184316</td>\n",
       "      <td>22.857507</td>\n",
       "      <td>0.0</td>\n",
       "      <td>0.0</td>\n",
       "      <td>0.0</td>\n",
       "      <td>0.000000</td>\n",
       "      <td>6259559.0</td>\n",
       "    </tr>\n",
       "    <tr>\n",
       "      <th>1</th>\n",
       "      <td>2020-05-15 00:00:00+00:00</td>\n",
       "      <td>4136001</td>\n",
       "      <td>Et9kgGMDl729KT4</td>\n",
       "      <td>27.004764</td>\n",
       "      <td>25.060789</td>\n",
       "      <td>0.0</td>\n",
       "      <td>0.0</td>\n",
       "      <td>0.0</td>\n",
       "      <td>269.933333</td>\n",
       "      <td>1704250.0</td>\n",
       "    </tr>\n",
       "  </tbody>\n",
       "</table>\n",
       "</div>"
      ],
      "text/plain": [
       "                   DATE_TIME  PLANT_ID      INVERTER_ID  AMBIENT_TEMPERATURE  \\\n",
       "0  2020-05-15 00:00:00+00:00   4135001  1BY6WEcLGh8j5v7            25.184316   \n",
       "1  2020-05-15 00:00:00+00:00   4136001  Et9kgGMDl729KT4            27.004764   \n",
       "\n",
       "   MODULE_TEMPERATURE  IRRADIATION  DC_POWER  AC_POWER  DAILY_YIELD  \\\n",
       "0           22.857507          0.0       0.0       0.0     0.000000   \n",
       "1           25.060789          0.0       0.0       0.0   269.933333   \n",
       "\n",
       "   TOTAL_YIELD  \n",
       "0    6259559.0  \n",
       "1    1704250.0  "
      ]
     },
     "execution_count": 44,
     "metadata": {},
     "output_type": "execute_result"
    }
   ],
   "source": [
    "raw_df.head(2)"
   ]
  },
  {
   "cell_type": "code",
   "execution_count": null,
   "id": "b7adf57b-5226-4df8-8c49-9aa4358ecb22",
   "metadata": {},
   "outputs": [],
   "source": [
    "# === 데이터셋 불러오기 및 정규화 작업 종료 ==="
   ]
  },
  {
   "cell_type": "markdown",
   "id": "29b74e2d-edb1-4f94-ad69-75b9511aa74a",
   "metadata": {},
   "source": [
    "## 데이터 분리 / 모델 학습 / 검증"
   ]
  },
  {
   "cell_type": "code",
   "execution_count": null,
   "id": "c85691cb-9188-499d-86b1-1c72bd73d1f2",
   "metadata": {},
   "outputs": [],
   "source": [
    "## TEST / TRAIN / VALIDATION 데이터 분리 및 훈련 과정\n",
    "#\n",
    "#\n",
    "# 라인부터 작성 해주세요.\n",
    "#\n",
    "#\n",
    "#"
   ]
  },
  {
   "cell_type": "markdown",
   "id": "713a8e20-0739-4568-9859-f52cb4ca7dd3",
   "metadata": {},
   "source": [
    "# 평가 데이터 제출"
   ]
  },
  {
   "cell_type": "code",
   "execution_count": 63,
   "id": "77089728-d020-4e79-b76e-374875f302c3",
   "metadata": {},
   "outputs": [
    {
     "name": "stdout",
     "output_type": "stream",
     "text": [
      "                   DATE_TIME  PLANT_ID       SOURCE_KEY  DC_POWER  AC_POWER  \\\n",
      "0  2020-06-14 18:00:00+00:00   4136001  81aHJ1q11NBPMrL       0.0       0.0   \n",
      "1  2020-06-14 18:00:00+00:00   4135001  sjndEbLyjtCKgGv       0.0       0.0   \n",
      "\n",
      "   DAILY_YIELD  TOTAL_YIELD  \n",
      "0          0.0          0.0  \n",
      "1          0.0          0.0  \n"
     ]
    }
   ],
   "source": [
    "submit_generation = pd.read_csv(SUBMIT_GENERATION_DATA)\n",
    "print(submit_generation.head(2))\n",
    "submit_sensor = pd.read_csv(SUBMIT_SENSOR_DATA)\n",
    "submit_df = cleansing(submit_generation, submit_sensor)\n"
   ]
  },
  {
   "cell_type": "code",
   "execution_count": null,
   "id": "1e31fc48-9531-4b6b-8bf0-96b26bbdd859",
   "metadata": {},
   "outputs": [],
   "source": [
    "# === 평가 데이터셋 불러오기 및 정규화 작업 종료 ==="
   ]
  },
  {
   "cell_type": "markdown",
   "id": "cf06e041-1b83-49b5-8782-bab420142867",
   "metadata": {},
   "source": [
    "## 1. 기본 목표: AC_POWER를 예측하여 채워넣기"
   ]
  },
  {
   "cell_type": "code",
   "execution_count": 64,
   "id": "a794abc2-8a96-4ebc-a596-a6f83853a085",
   "metadata": {},
   "outputs": [],
   "source": [
    "submit_df['AC_POWER'] = 0.0\n",
    "\n",
    "\n",
    "# AC_POWER 추론 결과 입력"
   ]
  },
  {
   "cell_type": "markdown",
   "id": "66238242-cf2b-4bfd-99c8-e55ffd90fbda",
   "metadata": {},
   "source": [
    "## 2. 심화 목표: DC_POWER를 예측하여 채워넣기 OR DAILY_YIELD 예측"
   ]
  },
  {
   "cell_type": "code",
   "execution_count": 65,
   "id": "16c48015-42e4-45f2-9284-bad84b5fea8c",
   "metadata": {},
   "outputs": [],
   "source": [
    "# 심화 목표 수행\n",
    "# DC_POWER 혹은 DAILY_YIELD 예측\n",
    "\n",
    "submit_df['DC_POWER'] = 0.0\n",
    "\n",
    "#DC_POWER 추론 결과 입력\n",
    "\n",
    "submit_df['DAILY_YIELD'] = 0.0\n",
    "\n",
    "#DAILY_YIELD 추론 결과 입력"
   ]
  },
  {
   "cell_type": "markdown",
   "id": "38e5707d-9362-4d43-839f-604d26a89694",
   "metadata": {},
   "source": [
    "## 평가 데이터 저장 및 제출\n",
    "\n",
    "> submit.csv 파일을 제출해주세요.\n",
    "> "
   ]
  },
  {
   "cell_type": "code",
   "execution_count": 67,
   "id": "d85281ac-9bd2-4849-9cca-ab7d9ac902b2",
   "metadata": {},
   "outputs": [],
   "source": [
    "\n",
    "# 제출을 위해 파일 저장\n",
    "submit_df.to_csv('/data/submit.csv', index=False)"
   ]
  }
 ],
 "metadata": {
  "kernelspec": {
   "display_name": "Python 3 (ipykernel)",
   "language": "python",
   "name": "python3"
  },
  "language_info": {
   "codemirror_mode": {
    "name": "ipython",
    "version": 3
   },
   "file_extension": ".py",
   "mimetype": "text/x-python",
   "name": "python",
   "nbconvert_exporter": "python",
   "pygments_lexer": "ipython3",
   "version": "3.10.12"
  }
 },
 "nbformat": 4,
 "nbformat_minor": 5
}
